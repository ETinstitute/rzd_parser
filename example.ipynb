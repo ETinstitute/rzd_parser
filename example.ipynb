{
 "cells": [
  {
   "cell_type": "markdown",
   "id": "c8bb48cb-603b-4dc9-8ebf-4abc7b2a4b93",
   "metadata": {},
   "source": [
    "# Импорт библиотек"
   ]
  },
  {
   "cell_type": "code",
   "execution_count": 2,
   "id": "0f329b79-e979-4004-8c95-71de1442513c",
   "metadata": {},
   "outputs": [],
   "source": [
    "from RZD_Parser import Parser\n",
    "\n",
    "import pandas as pd\n",
    "import numpy as np"
   ]
  },
  {
   "cell_type": "markdown",
   "id": "ec62544c-69af-41a8-a91a-b35ce73589f1",
   "metadata": {},
   "source": [
    "# Работа с библиотекой\n",
    "\n",
    "Создаем экземпляр парсера, указывает левую границу даты"
   ]
  },
  {
   "cell_type": "code",
   "execution_count": 6,
   "id": "11bf42d5-e9d3-4363-8468-5917128fb9e4",
   "metadata": {},
   "outputs": [],
   "source": [
    "p = Parser(date_publication_0='18.05.2014')"
   ]
  },
  {
   "cell_type": "markdown",
   "id": "15ab0365-dc8a-4664-bf97-b4a6e2942440",
   "metadata": {},
   "source": [
    "> ## Дополнение:\n",
    "> качестве параметра date_publication можно передавать как обьект datetime, так и строку в формате 'DD.MM.YYYY'"
   ]
  },
  {
   "cell_type": "markdown",
   "id": "589fcbd6-678f-4e00-997f-938b4e1bea28",
   "metadata": {},
   "source": [
    "### Парсим данные\n",
    "\n"
   ]
  },
  {
   "cell_type": "code",
   "execution_count": 7,
   "id": "96dbc90c-3381-4ddc-a535-105aa93ebb63",
   "metadata": {},
   "outputs": [
    {
     "name": "stderr",
     "output_type": "stream",
     "text": [
      "/home/misha/rzd_parser/RZD_Parser/parser/__init__.py:137: UserWarning: skip raw: Погрузка экспортного угля в порты Юга России выросла в 1,5 раза в январе\n",
      "  return warnings.warn(f'skip raw: {text}')\n",
      "/home/misha/rzd_parser/RZD_Parser/parser/__init__.py:137: UserWarning: skip raw: Погрузка на сети ОАО \"РЖД\" в январе превысила 100 млн тонн\n",
      "  return warnings.warn(f'skip raw: {text}')\n",
      "/home/misha/rzd_parser/RZD_Parser/parser/__init__.py:137: UserWarning: skip raw: В октябре 2014 года ОАО \"РЖД\" увеличило маршрутную скорость грузовых поездов.\n",
      "  return warnings.warn(f'skip raw: {text}')\n"
     ]
    }
   ],
   "source": [
    "df = p.parse_data()"
   ]
  },
  {
   "cell_type": "markdown",
   "id": "12cad6c4-7998-4e02-ae87-00c63f04ab34",
   "metadata": {},
   "source": [
    "> ## Дополнение:\n",
    "> warnings указывают, что при парсинге строк не получилось преобразовать некоторые значения. Как в примере, это лишние для данных значения, например: \"Погрузка на сети ОАО \"РЖД\" в январе превысила 100 млн тонн\""
   ]
  },
  {
   "cell_type": "markdown",
   "id": "b41033f7-b53f-4fc5-a3f1-ced134745349",
   "metadata": {},
   "source": [
    "### Вид данных\n",
    "\n",
    "* text содержит полный текст, полученный с запроса\n",
    "* колонка values содержит данные о погрузке, млн тонн\n",
    "* колонка date содержит дату в формате DD.MM.YYYY"
   ]
  },
  {
   "cell_type": "code",
   "execution_count": 8,
   "id": "43294d75-3b5c-4c59-ab42-bd246eaafd41",
   "metadata": {},
   "outputs": [
    {
     "data": {
      "text/html": [
       "<div>\n",
       "<style scoped>\n",
       "    .dataframe tbody tr th:only-of-type {\n",
       "        vertical-align: middle;\n",
       "    }\n",
       "\n",
       "    .dataframe tbody tr th {\n",
       "        vertical-align: top;\n",
       "    }\n",
       "\n",
       "    .dataframe thead th {\n",
       "        text-align: right;\n",
       "    }\n",
       "</style>\n",
       "<table border=\"1\" class=\"dataframe\">\n",
       "  <thead>\n",
       "    <tr style=\"text-align: right;\">\n",
       "      <th></th>\n",
       "      <th>text</th>\n",
       "      <th>values</th>\n",
       "      <th>date</th>\n",
       "    </tr>\n",
       "  </thead>\n",
       "  <tbody>\n",
       "    <tr>\n",
       "      <th>0</th>\n",
       "      <td>Погрузка на сети ОАО «РЖД» составила 94,8 млн ...</td>\n",
       "      <td>94,8 млн тонн</td>\n",
       "      <td>01.02.2024</td>\n",
       "    </tr>\n",
       "    <tr>\n",
       "      <th>1</th>\n",
       "      <td>В 2023 году погрузка экспортных грузов в порты...</td>\n",
       "      <td>None</td>\n",
       "      <td>15.01.2024</td>\n",
       "    </tr>\n",
       "    <tr>\n",
       "      <th>2</th>\n",
       "      <td>Погрузка на сети ОАО «РЖД» в 2023 году состави...</td>\n",
       "      <td>None</td>\n",
       "      <td>09.01.2024</td>\n",
       "    </tr>\n",
       "  </tbody>\n",
       "</table>\n",
       "</div>"
      ],
      "text/plain": [
       "                                                text         values  \\\n",
       "0  Погрузка на сети ОАО «РЖД» составила 94,8 млн ...  94,8 млн тонн   \n",
       "1  В 2023 году погрузка экспортных грузов в порты...           None   \n",
       "2  Погрузка на сети ОАО «РЖД» в 2023 году состави...           None   \n",
       "\n",
       "         date  \n",
       "0  01.02.2024  \n",
       "1  15.01.2024  \n",
       "2  09.01.2024  "
      ]
     },
     "execution_count": 8,
     "metadata": {},
     "output_type": "execute_result"
    }
   ],
   "source": [
    "df.head(3)"
   ]
  },
  {
   "cell_type": "markdown",
   "id": "29ba4eea-d88c-4b44-ba3b-ce4fb42a4bb5",
   "metadata": {},
   "source": [
    "> ## Дополнение:\n",
    "> Если переживаете, что ваши данные потеряются, можете указать флаг `dropna = True` и тогда все данные с сайта попадут в датафрейм с некоторыми пустыми значениями в values"
   ]
  },
  {
   "cell_type": "code",
   "execution_count": 10,
   "id": "d8bbb538-863f-4974-b585-0732c29eac7c",
   "metadata": {},
   "outputs": [
    {
     "name": "stderr",
     "output_type": "stream",
     "text": [
      "/home/misha/rzd_parser/RZD_Parser/parser/__init__.py:137: UserWarning: skip raw: Погрузка экспортного угля в порты Юга России выросла в 1,5 раза в январе\n",
      "  return warnings.warn(f'skip raw: {text}')\n",
      "/home/misha/rzd_parser/RZD_Parser/parser/__init__.py:137: UserWarning: skip raw: Погрузка на сети ОАО \"РЖД\" в январе превысила 100 млн тонн\n",
      "  return warnings.warn(f'skip raw: {text}')\n",
      "/home/misha/rzd_parser/RZD_Parser/parser/__init__.py:137: UserWarning: skip raw: В октябре 2014 года ОАО \"РЖД\" увеличило маршрутную скорость грузовых поездов.\n",
      "  return warnings.warn(f'skip raw: {text}')\n"
     ]
    },
    {
     "data": {
      "text/html": [
       "<div>\n",
       "<style scoped>\n",
       "    .dataframe tbody tr th:only-of-type {\n",
       "        vertical-align: middle;\n",
       "    }\n",
       "\n",
       "    .dataframe tbody tr th {\n",
       "        vertical-align: top;\n",
       "    }\n",
       "\n",
       "    .dataframe thead th {\n",
       "        text-align: right;\n",
       "    }\n",
       "</style>\n",
       "<table border=\"1\" class=\"dataframe\">\n",
       "  <thead>\n",
       "    <tr style=\"text-align: right;\">\n",
       "      <th></th>\n",
       "      <th>text</th>\n",
       "      <th>values</th>\n",
       "      <th>date</th>\n",
       "    </tr>\n",
       "  </thead>\n",
       "  <tbody>\n",
       "    <tr>\n",
       "      <th>0</th>\n",
       "      <td>Погрузка на сети ОАО «РЖД» составила 94,8 млн ...</td>\n",
       "      <td>94,8 млн тонн</td>\n",
       "      <td>01.02.2024</td>\n",
       "    </tr>\n",
       "    <tr>\n",
       "      <th>1</th>\n",
       "      <td>В 2023 году погрузка экспортных грузов в порты...</td>\n",
       "      <td>None</td>\n",
       "      <td>15.01.2024</td>\n",
       "    </tr>\n",
       "    <tr>\n",
       "      <th>2</th>\n",
       "      <td>Погрузка на сети ОАО «РЖД» в 2023 году состави...</td>\n",
       "      <td>None</td>\n",
       "      <td>09.01.2024</td>\n",
       "    </tr>\n",
       "    <tr>\n",
       "      <th>3</th>\n",
       "      <td>Погрузка экспортных грузов в порты на сети ОАО...</td>\n",
       "      <td>None</td>\n",
       "      <td>11.12.2023</td>\n",
       "    </tr>\n",
       "    <tr>\n",
       "      <th>4</th>\n",
       "      <td>Погрузка на сети ОАО «РЖД» составила 101,5 млн...</td>\n",
       "      <td>101,5 млн тонн</td>\n",
       "      <td>01.12.2023</td>\n",
       "    </tr>\n",
       "  </tbody>\n",
       "</table>\n",
       "</div>"
      ],
      "text/plain": [
       "                                                text          values  \\\n",
       "0  Погрузка на сети ОАО «РЖД» составила 94,8 млн ...   94,8 млн тонн   \n",
       "1  В 2023 году погрузка экспортных грузов в порты...            None   \n",
       "2  Погрузка на сети ОАО «РЖД» в 2023 году состави...            None   \n",
       "3  Погрузка экспортных грузов в порты на сети ОАО...            None   \n",
       "4  Погрузка на сети ОАО «РЖД» составила 101,5 млн...  101,5 млн тонн   \n",
       "\n",
       "         date  \n",
       "0  01.02.2024  \n",
       "1  15.01.2024  \n",
       "2  09.01.2024  \n",
       "3  11.12.2023  \n",
       "4  01.12.2023  "
      ]
     },
     "execution_count": 10,
     "metadata": {},
     "output_type": "execute_result"
    }
   ],
   "source": [
    "p.parse_data(dropna=False).head(5)"
   ]
  }
 ],
 "metadata": {
  "kernelspec": {
   "display_name": "Python 3 (ipykernel)",
   "language": "python",
   "name": "python3"
  },
  "language_info": {
   "codemirror_mode": {
    "name": "ipython",
    "version": 3
   },
   "file_extension": ".py",
   "mimetype": "text/x-python",
   "name": "python",
   "nbconvert_exporter": "python",
   "pygments_lexer": "ipython3",
   "version": "3.11.6"
  }
 },
 "nbformat": 4,
 "nbformat_minor": 5
}
